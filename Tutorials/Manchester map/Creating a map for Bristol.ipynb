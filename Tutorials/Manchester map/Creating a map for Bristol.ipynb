{
 "cells": [
  {
   "cell_type": "markdown",
   "metadata": {
    "slideshow": {
     "slide_type": "slide"
    }
   },
   "source": [
    "# Creating a map using geopandas\n",
    "There are lots of benefits of using Choropleth maps (except for having to pronounce it of course!) \n"
   ]
  },
  {
   "cell_type": "markdown",
   "metadata": {
    "slideshow": {
     "slide_type": "slide"
    }
   },
   "source": [
    "# Step 1: import packages\n",
    "\n",
    "As ususal let's first import our packages. Everything is as usual, except we'll also be using a new packaged called geopandas"
   ]
  },
  {
   "cell_type": "code",
   "execution_count": 10,
   "metadata": {
    "slideshow": {
     "slide_type": "-"
    }
   },
   "outputs": [],
   "source": [
    "import numpy as np\n",
    "import pandas as pd \n",
    "import matplotlib.pyplot as plt\n",
    "\n",
    "import geopandas as gpd"
   ]
  },
  {
   "cell_type": "markdown",
   "metadata": {
    "slideshow": {
     "slide_type": "slide"
    }
   },
   "source": [
    "# Step 3: import your shapefile for UK local authorities. \n",
    "\n",
    "Shapefiles for the UK are easily available from The Open Geography portal, a website from the ONS. \n",
    "You can check that out here: https://geoportal.statistics.gov.uk/\n",
    "\n",
    "There are lots of free shapefiles online for other countries or for a world map. "
   ]
  },
  {
   "cell_type": "code",
   "execution_count": 11,
   "metadata": {
    "scrolled": false
   },
   "outputs": [
    {
     "data": {
      "text/html": [
       "<div>\n",
       "<style scoped>\n",
       "    .dataframe tbody tr th:only-of-type {\n",
       "        vertical-align: middle;\n",
       "    }\n",
       "\n",
       "    .dataframe tbody tr th {\n",
       "        vertical-align: top;\n",
       "    }\n",
       "\n",
       "    .dataframe thead th {\n",
       "        text-align: right;\n",
       "    }\n",
       "</style>\n",
       "<table border=\"1\" class=\"dataframe\">\n",
       "  <thead>\n",
       "    <tr style=\"text-align: right;\">\n",
       "      <th></th>\n",
       "      <th>OBJECTID</th>\n",
       "      <th>LAD19CD</th>\n",
       "      <th>LAD19NM</th>\n",
       "      <th>LAD19NMW</th>\n",
       "      <th>BNG_E</th>\n",
       "      <th>BNG_N</th>\n",
       "      <th>LONG</th>\n",
       "      <th>LAT</th>\n",
       "      <th>Shape__Are</th>\n",
       "      <th>Shape__Len</th>\n",
       "      <th>geometry</th>\n",
       "    </tr>\n",
       "  </thead>\n",
       "  <tbody>\n",
       "    <tr>\n",
       "      <th>0</th>\n",
       "      <td>1</td>\n",
       "      <td>E06000001</td>\n",
       "      <td>Hartlepool</td>\n",
       "      <td>None</td>\n",
       "      <td>447157</td>\n",
       "      <td>531476</td>\n",
       "      <td>-1.27023</td>\n",
       "      <td>54.6762</td>\n",
       "      <td>9.355951e+07</td>\n",
       "      <td>71707.162397</td>\n",
       "      <td>MULTIPOLYGON (((450156.801 525940.201, 450154....</td>\n",
       "    </tr>\n",
       "    <tr>\n",
       "      <th>1</th>\n",
       "      <td>2</td>\n",
       "      <td>E06000002</td>\n",
       "      <td>Middlesbrough</td>\n",
       "      <td>None</td>\n",
       "      <td>451141</td>\n",
       "      <td>516887</td>\n",
       "      <td>-1.21099</td>\n",
       "      <td>54.5447</td>\n",
       "      <td>5.388858e+07</td>\n",
       "      <td>43840.876046</td>\n",
       "      <td>MULTIPOLYGON (((451995.400 521026.897, 452169....</td>\n",
       "    </tr>\n",
       "    <tr>\n",
       "      <th>2</th>\n",
       "      <td>3</td>\n",
       "      <td>E06000003</td>\n",
       "      <td>Redcar and Cleveland</td>\n",
       "      <td>None</td>\n",
       "      <td>464359</td>\n",
       "      <td>519597</td>\n",
       "      <td>-1.00611</td>\n",
       "      <td>54.5675</td>\n",
       "      <td>2.448203e+08</td>\n",
       "      <td>97993.352238</td>\n",
       "      <td>MULTIPOLYGON (((451747.397 520561.100, 451792....</td>\n",
       "    </tr>\n",
       "    <tr>\n",
       "      <th>3</th>\n",
       "      <td>4</td>\n",
       "      <td>E06000004</td>\n",
       "      <td>Stockton-on-Tees</td>\n",
       "      <td>None</td>\n",
       "      <td>444937</td>\n",
       "      <td>518183</td>\n",
       "      <td>-1.30669</td>\n",
       "      <td>54.5569</td>\n",
       "      <td>2.049622e+08</td>\n",
       "      <td>119581.539702</td>\n",
       "      <td>MULTIPOLYGON (((450252.196 525902.201, 450241....</td>\n",
       "    </tr>\n",
       "  </tbody>\n",
       "</table>\n",
       "</div>"
      ],
      "text/plain": [
       "   OBJECTID    LAD19CD               LAD19NM LAD19NMW   BNG_E   BNG_N  \\\n",
       "0         1  E06000001            Hartlepool     None  447157  531476   \n",
       "1         2  E06000002         Middlesbrough     None  451141  516887   \n",
       "2         3  E06000003  Redcar and Cleveland     None  464359  519597   \n",
       "3         4  E06000004      Stockton-on-Tees     None  444937  518183   \n",
       "\n",
       "      LONG      LAT    Shape__Are     Shape__Len  \\\n",
       "0 -1.27023  54.6762  9.355951e+07   71707.162397   \n",
       "1 -1.21099  54.5447  5.388858e+07   43840.876046   \n",
       "2 -1.00611  54.5675  2.448203e+08   97993.352238   \n",
       "3 -1.30669  54.5569  2.049622e+08  119581.539702   \n",
       "\n",
       "                                            geometry  \n",
       "0  MULTIPOLYGON (((450156.801 525940.201, 450154....  \n",
       "1  MULTIPOLYGON (((451995.400 521026.897, 452169....  \n",
       "2  MULTIPOLYGON (((451747.397 520561.100, 451792....  \n",
       "3  MULTIPOLYGON (((450252.196 525902.201, 450241....  "
      ]
     },
     "execution_count": 11,
     "metadata": {},
     "output_type": "execute_result"
    }
   ],
   "source": [
    "UK = \"Local_Authority_Districts__April_2019__UK_BFC_v2-shp/Local_Authority_Districts__April_2019__UK_BFC_v2.shp\"\n",
    "\n",
    "map_df = gpd.read_file(UK)\n",
    "\n",
    "map_df.head(n=4)"
   ]
  },
  {
   "cell_type": "code",
   "execution_count": 12,
   "metadata": {},
   "outputs": [
    {
     "data": {
      "text/plain": [
       "(382, 11)"
      ]
     },
     "execution_count": 12,
     "metadata": {},
     "output_type": "execute_result"
    }
   ],
   "source": [
    "map_df.shape"
   ]
  },
  {
   "cell_type": "code",
   "execution_count": 13,
   "metadata": {
    "scrolled": true,
    "slideshow": {
     "slide_type": "slide"
    }
   },
   "outputs": [
    {
     "data": {
      "text/plain": [
       "<matplotlib.axes._subplots.AxesSubplot at 0x1205c69b0>"
      ]
     },
     "execution_count": 13,
     "metadata": {},
     "output_type": "execute_result"
    },
    {
     "data": {
      "image/png": "[encoded data removed]",
      "text/plain": [
       "<Figure size 432x288 with 1 Axes>"
      ]
     },
     "metadata": {
      "needs_background": "light"
     },
     "output_type": "display_data"
    }
   ],
   "source": [
    "map_df.plot()"
   ]
  },
  {
   "cell_type": "code",
   "execution_count": 15,
   "metadata": {
    "scrolled": true,
    "slideshow": {
     "slide_type": "slide"
    }
   },
   "outputs": [
    {
     "data": {
      "text/html": [
       "<div>\n",
       "<style scoped>\n",
       "    .dataframe tbody tr th:only-of-type {\n",
       "        vertical-align: middle;\n",
       "    }\n",
       "\n",
       "    .dataframe tbody tr th {\n",
       "        vertical-align: top;\n",
       "    }\n",
       "\n",
       "    .dataframe thead th {\n",
       "        text-align: right;\n",
       "    }\n",
       "</style>\n",
       "<table border=\"1\" class=\"dataframe\">\n",
       "  <thead>\n",
       "    <tr style=\"text-align: right;\">\n",
       "      <th></th>\n",
       "      <th>OBJECTID</th>\n",
       "      <th>LAD19CD</th>\n",
       "      <th>LAD19NM</th>\n",
       "      <th>LAD19NMW</th>\n",
       "      <th>BNG_E</th>\n",
       "      <th>BNG_N</th>\n",
       "      <th>LONG</th>\n",
       "      <th>LAT</th>\n",
       "      <th>Shape__Are</th>\n",
       "      <th>Shape__Len</th>\n",
       "      <th>geometry</th>\n",
       "    </tr>\n",
       "  </thead>\n",
       "  <tbody>\n",
       "    <tr>\n",
       "      <th>22</th>\n",
       "      <td>23</td>\n",
       "      <td>E06000023</td>\n",
       "      <td>Bristol, City of</td>\n",
       "      <td>None</td>\n",
       "      <td>359990</td>\n",
       "      <td>174846</td>\n",
       "      <td>-2.57742</td>\n",
       "      <td>51.4711</td>\n",
       "      <td>1.097001e+08</td>\n",
       "      <td>109722.732804</td>\n",
       "      <td>MULTIPOLYGON (((347677.098 177524.104, 347636....</td>\n",
       "    </tr>\n",
       "  </tbody>\n",
       "</table>\n",
       "</div>"
      ],
      "text/plain": [
       "    OBJECTID    LAD19CD           LAD19NM LAD19NMW   BNG_E   BNG_N     LONG  \\\n",
       "22        23  E06000023  Bristol, City of     None  359990  174846 -2.57742   \n",
       "\n",
       "        LAT    Shape__Are     Shape__Len  \\\n",
       "22  51.4711  1.097001e+08  109722.732804   \n",
       "\n",
       "                                             geometry  \n",
       "22  MULTIPOLYGON (((347677.098 177524.104, 347636....  "
      ]
     },
     "execution_count": 15,
     "metadata": {},
     "output_type": "execute_result"
    }
   ],
   "source": [
    "map_df = map_df[22:23] #only want to keep the 1 row with Bristol\n",
    "map_df.head(n=6)"
   ]
  },
  {
   "cell_type": "code",
   "execution_count": 16,
   "metadata": {
    "scrolled": false,
    "slideshow": {
     "slide_type": "slide"
    }
   },
   "outputs": [
    {
     "data": {
      "text/plain": [
       "<matplotlib.axes._subplots.AxesSubplot at 0x120975c50>"
      ]
     },
     "execution_count": 16,
     "metadata": {},
     "output_type": "execute_result"
    },
    {
     "data": {
      "image/png": "[encoded data removed]",
      "text/plain": [
       "<Figure size 432x288 with 1 Axes>"
      ]
     },
     "metadata": {
      "needs_background": "light"
     },
     "output_type": "display_data"
    }
   ],
   "source": [
    "map_df.plot()"
   ]
  },
  {
   "cell_type": "markdown",
   "metadata": {
    "slideshow": {
     "slide_type": "slide"
    }
   },
   "source": [
    "# Step 4: Merge your dataframe with the shapefile"
   ]
  },
  {
   "cell_type": "code",
   "execution_count": 17,
   "metadata": {
    "scrolled": true
   },
   "outputs": [
    {
     "data": {
      "text/html": [
       "<div>\n",
       "<style scoped>\n",
       "    .dataframe tbody tr th:only-of-type {\n",
       "        vertical-align: middle;\n",
       "    }\n",
       "\n",
       "    .dataframe tbody tr th {\n",
       "        vertical-align: top;\n",
       "    }\n",
       "\n",
       "    .dataframe thead th {\n",
       "        text-align: right;\n",
       "    }\n",
       "</style>\n",
       "<table border=\"1\" class=\"dataframe\">\n",
       "  <thead>\n",
       "    <tr style=\"text-align: right;\">\n",
       "      <th></th>\n",
       "      <th>OBJECTID</th>\n",
       "      <th>LAD19CD</th>\n",
       "      <th>LAD19NM</th>\n",
       "      <th>LAD19NMW</th>\n",
       "      <th>BNG_E</th>\n",
       "      <th>BNG_N</th>\n",
       "      <th>LONG</th>\n",
       "      <th>LAT</th>\n",
       "      <th>Shape__Are</th>\n",
       "      <th>Shape__Len</th>\n",
       "      <th>geometry</th>\n",
       "    </tr>\n",
       "  </thead>\n",
       "  <tbody>\n",
       "    <tr>\n",
       "      <th>22</th>\n",
       "      <td>23</td>\n",
       "      <td>E06000023</td>\n",
       "      <td>Bristol, City of</td>\n",
       "      <td>None</td>\n",
       "      <td>359990</td>\n",
       "      <td>174846</td>\n",
       "      <td>-2.57742</td>\n",
       "      <td>51.4711</td>\n",
       "      <td>1.097001e+08</td>\n",
       "      <td>109722.732804</td>\n",
       "      <td>MULTIPOLYGON (((347677.098 177524.104, 347636....</td>\n",
       "    </tr>\n",
       "  </tbody>\n",
       "</table>\n",
       "</div>"
      ],
      "text/plain": [
       "    OBJECTID    LAD19CD           LAD19NM LAD19NMW   BNG_E   BNG_N     LONG  \\\n",
       "22        23  E06000023  Bristol, City of     None  359990  174846 -2.57742   \n",
       "\n",
       "        LAT    Shape__Are     Shape__Len  \\\n",
       "22  51.4711  1.097001e+08  109722.732804   \n",
       "\n",
       "                                             geometry  \n",
       "22  MULTIPOLYGON (((347677.098 177524.104, 347636....  "
      ]
     },
     "execution_count": 17,
     "metadata": {},
     "output_type": "execute_result"
    }
   ],
   "source": [
    "merged = map_df\n",
    "merged.head()"
   ]
  },
  {
   "cell_type": "markdown",
   "metadata": {
    "slideshow": {
     "slide_type": "slide"
    }
   },
   "source": [
    "# Step 5: Begin to 'assemble' your map "
   ]
  },
  {
   "cell_type": "code",
   "execution_count": 38,
   "metadata": {
    "scrolled": true
   },
   "outputs": [
    {
     "data": {
      "text/plain": [
       "(346773.98287999997, 365467.82112, 165818.20431999993, 183873.4960800011)"
      ]
     },
     "execution_count": 38,
     "metadata": {},
     "output_type": "execute_result"
    },
    {
     "data": {
      "image/png": "[encoded data removed]",
      "text/plain": [
       "<Figure size 720x432 with 1 Axes>"
      ]
     },
     "metadata": {
      "needs_background": "light"
     },
     "output_type": "display_data"
    }
   ],
   "source": [
    "# set a variable that will call whatever column we want to visualise on the map\n",
    "# In this case, it is claimants as a share of the population\n",
    "claimant = 'LAD19CD'\n",
    "\n",
    "# set the range for the choropleth\n",
    "vmin, vmax = 2, 10\n",
    "# create figure and axes for Matplotlib\n",
    "fig, ax = plt.subplots(1, figsize=(10, 6))\n",
    "\n",
    "# create map\n",
    "merged.plot(color='#CDCCCC', linestyle='solid', linewidth=0.8, ax=ax, edgecolor='0.9')\n",
    "\n",
    "# remove the axis\n",
    "ax.axis('off')\n",
    "\n",
    "#fig.savefig('map_bristol.png', dpi=300)"
   ]
  }
 ],
 "metadata": {
  "celltoolbar": "Slideshow",
  "kernelspec": {
   "display_name": "Python 3",
   "language": "python",
   "name": "python3"
  },
  "language_info": {
   "codemirror_mode": {
    "name": "ipython",
    "version": 3
   },
   "file_extension": ".py",
   "mimetype": "text/x-python",
   "name": "python",
   "nbconvert_exporter": "python",
   "pygments_lexer": "ipython3",
   "version": "3.7.3"
  }
 },
 "nbformat": 4,
 "nbformat_minor": 2
}
