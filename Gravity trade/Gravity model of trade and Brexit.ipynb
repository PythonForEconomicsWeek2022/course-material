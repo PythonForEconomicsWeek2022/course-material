{
 "cells": [
  {
   "cell_type": "markdown",
   "metadata": {},
   "source": [
    "# Gravity Model of Trade \n",
    "\n",
    "This is a demonstration for LSE undergraduate economics students for a python weekend. The gravity model of trade has become an issue of contention in recent year. Brexit instigated a debate about the gravity model and the models stated benefits to trade with the EU. Since 2016 government departments and think tanks have made the case for and against EU membership using the gravity model.\n",
    "\n",
    "This project gives an insight into the intuition behind the gravity model, and an opportunity to explore further its application to the UK's future outside the EU. \n",
    "\n",
    "__Topics covered__ \n",
    "*\tTrade flows\n",
    "*\tBrexit and free trade\n",
    "\n",
    "----------\n"
   ]
  },
  {
   "cell_type": "markdown",
   "metadata": {},
   "source": [
    "# Motivation\n",
    "The gravity model was initially presented as an intuitive way of understanding trade flows. \n",
    "\n",
    "<img src=\"gravity model, fig.png\" alt=\"gravity model, fig.png\" width=\"700\"/>\n",
    "\n",
    "\n",
    "### The basic gravity mdoel \n",
    "In its most basic form, the gravity model can be written as follows:\n",
    "\n",
    "(1a) log𝑋𝑖𝑗 = 𝑐 + 𝑏1 log 𝐺𝐷𝑃𝑖 + 𝑏2 log 𝐺𝐷𝑃𝑗 + 𝑏3 log 𝜏𝑖𝑗 + 𝑒𝑖𝑗\n",
    "\n",
    "\n",
    "(1𝑏) log 𝜏𝑖𝑗 = log(𝑑𝑖𝑠𝑡𝑎𝑛𝑐𝑒𝑖𝑗)\n",
    "\n",
    "where \n",
    "* 𝑋𝑖𝑗 indicates exports from country i to country j, \n",
    "* GDP is each country’s gross domestic product,\n",
    "* 𝜏𝑖𝑗 represents trade costs between the two countries, \n",
    "* _distance_ is the geographical distance between them—as an observable proxy for trade costs—and \n",
    "* 𝑒𝑖𝑗 is a random error term. \n",
    "* c is a regression constant, and \n",
    "* b terms are coefficients to be estimated. \n",
    "\n",
    "\n",
    "### What does the model show? \n",
    "The name “gravity” comes from the fact that the nonlinear form of equation (1a) resembles Newton’s law of gravity: exports are directly proportional to the exporting and importing countries’ economic “mass” (GDP), and inversely\n",
    "proportional to the distance between them (not the square of the distance between them, as in\n",
    "physics). \n",
    "\n",
    "In other words, gravity says: \n",
    "1. We expect larger country pairs to trade more, but \n",
    "2. We expect countries that are further apart to trade less (perhaps because transport costs between them are higher)."
   ]
  },
  {
   "cell_type": "markdown",
   "metadata": {},
   "source": [
    "# Data sets \n",
    "*\tGravity model, single year services data [Link](https://drive.google.com/drive/folders/0B2GupjNVYusicmxGNEF4SV9peGM)\n",
    "*\tFull gravity model time series with codebook. [Link](https://sites.google.com/site/hiegravity/data-sources) \n",
    "*\tONS UK total trade: all countries, non-seasonally adjusted. [Link](https://www.ons.gov.uk/businessindustryandtrade/internationaltrade/datasets/uktotaltradeallcountriesnonseasonallyadjusted)\n",
    "\n",
    "# Reading list\n",
    "__Gravity model__\n",
    "Head, K  and Mayer, T. (2014) Gravity Equations: Workhorse, Toolkit, and Cookbook. Handbook of International Economics, vol. 4, Elsevier. \n",
    "\n",
    "Anderson, J and van Wincoop, E. (2001) Gravity with Gravitas: A Solution to the Border Puzzle. \n",
    "\n",
    "__Brexit__ \n",
    "Coutts, K. et al. (2017) Defying Gravity: A critique of estimates of the economic impact of Brexit. Policy Exchange. \n",
    "\n",
    "Dhingra, S. et al (2016) The UK Treasury analysis of 'The long-term economic impact of EU membership and the alternatives': CEP Commentary [Link]\n",
    "\n",
    "Department for International Trade (2020) UK-Australia free trade agreement: the UK's strategic approach."
   ]
  },
  {
   "cell_type": "markdown",
   "metadata": {},
   "source": [
    "### Real world applicability \n",
    "\n",
    "* Does this have a basis in real life? \n",
    "* Does trade depend on distance? \n",
    "* How might this be used when discussing new trade deals in light of Brexit? - is the EU the UK's biggest trading partner? \n"
   ]
  },
  {
   "cell_type": "markdown",
   "metadata": {},
   "source": [
    "# Import packages"
   ]
  },
  {
   "cell_type": "markdown",
   "metadata": {},
   "source": [
    "You will need: \n",
    "* pandas\n",
    "* Numpy \n",
    "* matplotlib or seasborn (or both!) for charts\n",
    "* statsmodels"
   ]
  },
  {
   "cell_type": "markdown",
   "metadata": {},
   "source": [
    "# Import the data\n",
    "You can download the dta file here: https://drive.google.com/drive/folders/0B2GupjNVYusicmxGNEF4SV9peGM\n",
    "\n",
    "Or the excel file here: https://www.dropbox.com/s/19acuzv2yrwpoun/servicesdataset%202.xlsx?dl=0\n",
    "\n",
    "__What does the data show?__ \n",
    "* The gravity model is no longer concerned only with trade in goods, but has recently been applied with success to trade in services (e.g., Kimura and Lee, 2006). \n",
    "\n",
    "* This tutorial will concentrate on the emerging area of trade in services, where increased data availability is making it increasingly feasible to apply the most up-to-date estimation methods and models. \n",
    " "
   ]
  },
  {
   "cell_type": "markdown",
   "metadata": {},
   "source": [
    "# Inspect the data \n",
    "\n",
    "After successfully importing the data you should run some tests to check how big the dataset is, if there are missing observations and understand what each of the variables mean. A table with the variables and the decriptions is below.\n",
    "\n",
    "| Column Name   | Label         |\n",
    "| ------------- |:-------------:| \n",
    "|exp \t|ISO 3-digit code for reporting country |\n",
    "|imp \t|ISO 3-digit code for partner country |\n",
    "|year\t| year |\n",
    "|trade\t|Services exports (credits) |\n",
    "|sector\t|Sector |\n",
    "|contig\t | 1 for contiguity |\n",
    "|comlang_off\t|1 for common official of primary language |\n",
    "|comlang_ethno\t|1 if a language is spoken by at least 9% of the population in both countries |\n",
    "|colony\t|1 for pairs ever in colonial relationship |\n",
    "|comcol\t|1 for common colonizer post 1945 |\n",
    "|curcol\t|1 for pairs currently in colonial relationship |\n",
    "|col45 \t|1 for pairs in colonial relationship post 1945 |\n",
    "|smctry\t|1 if countries were or are the same country |\n",
    "|dist\t|simple distance (most populated cities, km) |\n",
    "|distcap\t|simple distance between capitals (capitals, km) |\n",
    "|distw\t|weighted distance (pop-wt, km) |\n",
    "|distwces\t|weighted distance (pop-wt, km) CES distances with theta=-1 |\n",
    "|gdp_exp\t|Exporter GDP |\n",
    "|gdp_imp\t|Importer GDP |\n",
    "|etcr_exp\t|ETCR Aggregate |\n",
    "|etcr_imp\t|ETCR Aggregate |\n",
    "|ent_cost_imp\t|Market entry cost in the importer |\n",
    "|ent_cost_exp \t|Market entry cost in the exporter |\n",
    "|lat_exp \t|Latitude in degrees |\n",
    "|lat_imp\t|Latitude in degrees |\n",
    "\n",
    "### Student guidance: \n",
    "Here are some tips for what you should look for \n",
    "1. Use 'info' function \n",
    "2. Shape of the data \n",
    "3. Check for any null values (NA) \n",
    "4. Count the number of unique 'exp' i.e. export countries there are\n",
    "5. Identify the unqiue Sectors \n"
   ]
  },
  {
   "cell_type": "markdown",
   "metadata": {},
   "source": [
    "## Check for correlation\n",
    "\n",
    "A first step in examining the intuition behind the gravity model is to examine the correlations among\n",
    "the variables. \n",
    "\n",
    "We are only using services data in this. \n",
    "\n",
    "To do that, we first put the data in the correct format. \n",
    "1. We select the variables for which we are interested in calculating the correlation. In this case, these are: trade, distance, GDP of export country and GDP of import country.\n",
    "2. Afterwards we make sure no zero and missing values are included.  \n",
    "3. Convert our relevant columns into logs (You should look for the documentation of 'np.log')\n",
    "4. Create a scatter diagram for log GDP combined and log trade \n",
    "5. Create a scatter diagram for log distance combined and log trade \n",
    "6. Re-create these scatter diagrams with corr and add a line of best fit. \n",
    "\n",
    "Is there a relationship? Does it make sense? "
   ]
  },
  {
   "cell_type": "markdown",
   "metadata": {},
   "source": [
    "# Problems with the intuitive gravity model \n",
    "\n",
    "The previous section shows that the basic gravity model picks up two important stylized facts of\n",
    "international trade: \n",
    "1. Bigger countries trade more, and \n",
    "2. More distant countries trade less. \n",
    "\n",
    "These regularities are almost uniformly reflected in the early gravity literature, which applies the model to all regions of the world, covering both developed and developing economies, and various products and\n",
    "time periods. \n",
    "\n",
    "The model is clearly a useful starting point in applied international trade research."
   ]
  },
  {
   "cell_type": "markdown",
   "metadata": {},
   "source": [
    "# Estimating the gravity model \n",
    "\n",
    "Now that we have looked at what relationship might exist, we can now attempt to estimate the gravity model. \n",
    "\n",
    "Here we will use the 'intuitive gravity model' we've been working with thus far, and discusses estimation via ordinary least squares and interpretation of results. \n",
    "\n",
    "At its most basic, the intuitive gravity model takes the following log-linearized form:\n",
    "* log Xij = b0 + b1 log GDPi + b2 log GDPj+ b3 log τij + eij \n",
    "* log τij = log(distanceij ) \n",
    "\n",
    "where eij has been added as a random disturbance term (error). \n",
    "\n",
    "As an econometric problem, the objective is to obtain estimates of the unknown b parameters. \n",
    "\n",
    "### Student guidance \n",
    "At this point is is helpful to remind your group what the conditions are for the OLS estimation to be considered BLUE."
   ]
  },
  {
   "cell_type": "markdown",
   "metadata": {},
   "source": [
    "# Dummy variable of EU membership\n",
    "\n",
    "This additional exercise then takes into account, whether EU membership - where free trade agreements are a central principle of the Union - have an impact on the size of a country's economy. \n",
    "\n",
    "To create a dummy variable for EU countries, you first need to identify the EU member states in the dataset. The EU countries are outlined below. You will make an assumption about whether the UK is in the EU (given the date of the dta, assume in the EU). "
   ]
  },
  {
   "cell_type": "code",
   "execution_count": 36,
   "metadata": {},
   "outputs": [],
   "source": [
    "EU = ['AUT','BEL','CYP','CZE','DNK','EST','FIN','FRA','DEU','GRC','HUN','IRL','ITA','LVA','LTU','LUX','MLT','NLD','POL','PLT','SVK','SVN','ESP','SWE','GBR']"
   ]
  },
  {
   "cell_type": "markdown",
   "metadata": {},
   "source": [
    "__Next steps:__ \n",
    "1. You then want to create a dummy for whether or not exporters or importers trade with EU\n",
    "2. Create another variable of whether countries they are an EU member\n",
    "3. using the two variables, multiple the two variables together so that an eu_pair = 1 if the country both export and import country are in the EU"
   ]
  },
  {
   "cell_type": "markdown",
   "metadata": {},
   "source": [
    "Then run the same regression, using the new dummy variable as a control. "
   ]
  }
 ],
 "metadata": {
  "kernelspec": {
   "display_name": "Python 3",
   "language": "python",
   "name": "python3"
  },
  "language_info": {
   "codemirror_mode": {
    "name": "ipython",
    "version": 3
   },
   "file_extension": ".py",
   "mimetype": "text/x-python",
   "name": "python",
   "nbconvert_exporter": "python",
   "pygments_lexer": "ipython3",
   "version": "3.7.3"
  }
 },
 "nbformat": 4,
 "nbformat_minor": 2
}
