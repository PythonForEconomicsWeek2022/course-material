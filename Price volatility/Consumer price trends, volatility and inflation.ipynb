{
 "cells": [
  {
   "cell_type": "markdown",
   "metadata": {},
   "source": [
    "# Consumer price trends, volatility and inflation\n",
    "\n",
    "This is code for a python workshop with LSE undergraduate economics students to explore price ridigity and price trends using UK CPI data. The data can also be used to create your own consumer price index and inflation rates. The Covid-19 data can be used to identify price gauging during the pandemic. \n",
    "\n",
    "__This data can be used to explore:__\n",
    "* Measuring inflation \n",
    "* Price gauging and price stickiness\n",
    "* Cost of living indices"
   ]
  },
  {
   "cell_type": "markdown",
   "metadata": {},
   "source": [
    "# Import relevant packages\n",
    "Students should be familiar with most of these packages, you will use the usual pandas, numpy and mapplotlib - no additions needed (seaborn is optional to create more customised charts)."
   ]
  },
  {
   "cell_type": "markdown",
   "metadata": {},
   "source": [
    "# Motivation \n",
    "\n",
    "The source of price rigidity is a foundational question in macroeconomics, and one which improvments in data is consistently shifting our understanding of. This data has been provided by Richard Davies (LSE), you can read more about how the dataset was constructed [here.](https://cep.lse.ac.uk/pubs/download/occasional/op055.pdf) \n",
    "\n",
    "\n",
    "<img src=\"london, alcohol prices.png\" alt=\"london, alcohol prices\" width=\"400\"/>\n",
    "\n",
    "\n",
    "\n",
    "\n",
    "__Covid-19 impact__ \n",
    "\n",
    "However, the pandemic has made it difficult for statisticians to measure consumer prices. With several items being missing from stores as a result of stockpiling and weak supply-chains, alongside the difficulty of the forced closure of shops where price collectors would carry out instore price scanning. Policymakers have also impacted consumer prices with the VAT cut for the hospitality industry and the energy price cap. \n",
    "\n",
    "This has raised questions about the challenges of measuring inflation during a pandemic. However, the availability of rapid statistics, such as web-scraped prices, has also given an insight into price gauging based on specific items. \n",
    "\n",
    "\n",
    "# The data \n",
    "The price data come from monthly records of prices known as ‘price quotes’ that are recorded by the Office for National Statistics (ONS). The price quotes files contain information on the item sold, its location, the shop and shop type (the size of the establishment) it is sold in, and whether it was offered at a sale or regular price. In the past year the ONS have also begun collecting prices from online retailers. The final raw data has 41m observations. \n",
    "\n",
    "\n",
    "* Sample data of 10 items: https://www.dropbox.com/s/w87w1o5dy0et2o0/everpresent10items%20.csv?dl=0\n",
    "* Full consumer price data set: https://www.dropbox.com/s/lss4pzpbglx5nt8/db_prices.csv?dl=0\n",
    "* Components of household expenditure (used for consumer basket weights) [here.](https://www.ons.gov.uk/peoplepopulationandcommunity/personalandhouseholdfinances/expenditure/datasets/componentsofhouseholdexpenditureuktablea1)\n",
    "* ONS fast indicators for Covid-19: [here.](https://www.ons.gov.uk/economy/inflationandpriceindices/datasets/onlineweeklypricechanges)\n",
    "\n",
    "\n",
    "For interest: ONS datasets from 1996 - present are available to explore [here.](https://www.ons.gov.uk/economy/inflationandpriceindices/datasets/consumerpriceindicescpiandretailpricesindexrpiitemindicesandpricequotes)\n",
    "\n",
    "\n",
    "# Reading list \n",
    "\n",
    "__Price stickiness__\n",
    "\n",
    "Klenow P and Malin B (2010), “Microeconomic Evidence on Price Setting”, prepared for the Handbook of Monetary Economics.\n",
    "\n",
    "Kehoe, Patrick and Virgiliu Midrigan (2014) “Prices are Sticky After All,\" Journal of Monetary Economics.\n",
    "\n",
    "Nakamura, Emi and Jón Steinsson (2013), “Lost in Transit: Product Replacement Bias and Pricing to Market”, American Economic Review 2012, 102(7): 3277–3316. \n",
    "\n",
    "__Covid-19 impact__\n",
    "\n",
    "Blundell, R., Griffith, R., Levell, P., & O'Connell, M. (2020). Could COVID‐19 Infect the Consumer Prices Index?. Fiscal Studies, 41(2), 357-361\n",
    "\n",
    "Davies, R (2021). Prices and inflation in a pandemic - a micro data approach. Centre for Economic Performance. \n",
    "\n",
    "Jaravel, X., & O’Connell, M. (2020a). Real-time price indices: Inflation spike and falling product variety during the Great Lockdown. Journal of Public Economics, 191. \n",
    "\n",
    "Jaravel, X., & O’Connell, M. (2020b). High‐Frequency Changes in Shopping Behaviours, Promotions and the Measurement of Inflation: Evidence from the Great Lockdown. Fiscal Studies, 41(3), pp733-755."
   ]
  },
  {
   "cell_type": "markdown",
   "metadata": {},
   "source": [
    "# Import packages\n",
    "* pandas\n",
    "* numpy\n",
    "* matplotlib and seaborn\n",
    "* geopandas (for maps)"
   ]
  },
  {
   "cell_type": "markdown",
   "metadata": {},
   "source": [
    "# Import data\n",
    "Begin by using the 10 items data, this will give students a feel for the data, without having to manage the large prices dataset. \n",
    "\n",
    "The item ids are different and the names have been simplified. When using the full dataset students should also use additional data to match item names. (see below)\n",
    "\n",
    "__TIP__ Students should be able to explain what the CPI basket is, what consumer prices tell us and understand how basket items are selected and deselected. \n"
   ]
  },
  {
   "cell_type": "markdown",
   "metadata": {},
   "source": [
    "## Large 41m observation data\n",
    "\n",
    "If you would like to use the full dataset, then make sure to use the Dropbox link, as the file is 1GB, and could be unmanageable for your computer. But this will give you more observations and therefore more detail! \n",
    "\n",
    "Here are the additional datasets you will need to use the large dataset: \n",
    "* Item names: https://www.dropbox.com/s/lzgcc9nkocpl6y7/db_item.csv?dl=0\n",
    "* Region: https://www.dropbox.com/s/oiyq3nx6eczalz0/db_region.csv?dl=0\n",
    "* Dates : https://www.dropbox.com/s/h0nw0kmnclpbar1/db_date.csv?dl=0"
   ]
  },
  {
   "cell_type": "markdown",
   "metadata": {},
   "source": [
    "# Inspect the data\n",
    "Once you import the data, you want to look at what the data is telling us and how we can use it.\n",
    "\n",
    "Need to get to know the data you're using before doing any analysis.\n",
    "\n",
    "It is also good practise to check the data is clean so you can iron out issues before getting stuck part-way through. \n",
    "\n",
    "__TIP__: Note down some of the interesting stats from here - this will be helpful when giving your presentation."
   ]
  },
  {
   "cell_type": "markdown",
   "metadata": {},
   "source": [
    "You now want to find out what the 10 items are that you have in this dataset "
   ]
  },
  {
   "cell_type": "markdown",
   "metadata": {},
   "source": [
    "Do the same for regions. \n",
    "\n",
    "__Q__: Is this data grouped by the 4 nations or by NUTS1 regions?"
   ]
  },
  {
   "cell_type": "markdown",
   "metadata": {},
   "source": [
    "# Check the data is clean\n",
    "Next, we check that there are no zero prices, and some other tests for problematic data. \n",
    "\n",
    "Since the data is (generally) pre-cleaned, the results to this should all be negative, but it is good practise to assess your datasets! \n",
    "\n",
    "\n",
    "### Merging the dates to the correct format. \n",
    "* __TIP__: The dates for the monthly data must match our simplified 'dates' 1-280. you should create a column in the inflation rate dataframe and then merge. \n",
    "\n",
    "You need to merge the dates data using this file: https://www.dropbox.com/s/h0nw0kmnclpbar1/db_date.csv?dl=0"
   ]
  },
  {
   "cell_type": "markdown",
   "metadata": {},
   "source": [
    "Now we check if there are any empty cells"
   ]
  },
  {
   "cell_type": "markdown",
   "metadata": {},
   "source": [
    "# Creating percentiles \n",
    "\n",
    "We want to create percentiles p10 all the way to p90 for each of our ten items. "
   ]
  },
  {
   "cell_type": "markdown",
   "metadata": {},
   "source": [
    "Begin just by looking at the max, min and mean prices for a single item. Then try to create the deciles - 10th to 90th percentiles. "
   ]
  },
  {
   "cell_type": "markdown",
   "metadata": {},
   "source": [
    "1. Create a quick visualisation so that we can see if out stats look sensible. \n",
    "2. Then plot the values for the 90th, 50th and 10th percentiles "
   ]
  },
  {
   "cell_type": "markdown",
   "metadata": {},
   "source": [
    "__Q__: What does this tell us about chocolate prices over time? What do you notice about the gap between the p90 and p10 over time?"
   ]
  },
  {
   "cell_type": "markdown",
   "metadata": {},
   "source": [
    "# Repeat for the other items\n",
    "* You can repeat this for the other 9 items in the our original dataframe.\n",
    "\n",
    "* You could also merge in the monthly CPI inflation rate, and calculate the inflation rate for a specific item. \n",
    "   "
   ]
  },
  {
   "cell_type": "markdown",
   "metadata": {},
   "source": [
    "# Creating your own consumer basket\n",
    "\n",
    "If you have time, you can create your own consumer basket using all the basket items (the large 41m observation dataset). There are ~172 items which have been present throughout 1988 - 2021. You can do a similar exercise for a select number of items, or create your own consumer 'basket'.\n",
    "\n",
    "You will need the basket weights, which have a breakdown on household expenditure, that have been included in the dataset list. "
   ]
  },
  {
   "cell_type": "markdown",
   "metadata": {},
   "source": [
    "# Covid-19 price gauging\n",
    "The pandemic has given rise to a number of behavioural changes, including stockpiling and price gauging for items that are in high demand. However, the availability of rapid statistics, such as web-scraped prices, has given an insight into price gauging based on specific items. \n",
    "\n",
    "Use the large price data or the ONS weekly price data to demonstrate which items are showing high price volatility and whether some shops in particular have been behaving badly. "
   ]
  }
 ],
 "metadata": {
  "kernelspec": {
   "display_name": "Python 3",
   "language": "python",
   "name": "python3"
  },
  "language_info": {
   "codemirror_mode": {
    "name": "ipython",
    "version": 3
   },
   "file_extension": ".py",
   "mimetype": "text/x-python",
   "name": "python",
   "nbconvert_exporter": "python",
   "pygments_lexer": "ipython3",
   "version": "3.7.3"
  }
 },
 "nbformat": 4,
 "nbformat_minor": 2
}
