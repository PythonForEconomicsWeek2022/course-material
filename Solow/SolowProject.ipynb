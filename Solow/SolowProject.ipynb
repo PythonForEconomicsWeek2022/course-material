{
 "cells": [
  {
   "cell_type": "markdown",
   "metadata": {},
   "source": [
    "# Solow Growth Model"
   ]
  },
  {
   "cell_type": "markdown",
   "metadata": {},
   "source": [
    "The Solow growth model is a start in understanding differences in GDP per capita across countries. This project will look at it, and create a Python class to simulate growth scenarios. "
   ]
  },
  {
   "cell_type": "markdown",
   "metadata": {},
   "source": [
    "## Recap of the Solow growth model\n",
    "\n",
    "The model is easily represented by a series of equations. We assume the economy has a production function that, at time $t$, produces output $Y_t$ using capital ($K_t$) and labour ($L_t$), aggregated through a production function\n",
    "\n",
    "$$ Y_t = F(K_t, A_t  L_t) \\label{eq:production function}$$\n",
    "\n",
    "where $A_t$ is the number of efficiency units at time $t$. In other words, depending on $A_t$ being high or low, the same number of workers can be more or less productive. This variable therefore summarises the state of the art of the technology. \n",
    "\n",
    "We assume that the production function has constant returns to scale. For most of our numerical work we will assume it is a Cobb-Douglas function:\n",
    "\n",
    "$$ Y_t = K_t^{\\alpha} (A_t  L_t)^{1-\\alpha} $$"
   ]
  },
  {
   "cell_type": "markdown",
   "metadata": {},
   "source": [
    "We also assume that workers grow at a constant rate $n$, technology at a constant rate $g$, and that capital is accumulated through investment $I_t$:\n",
    "\n",
    "$$ L_{t+1} = (1+n)L_t, \\qquad A_{t+1} = (1+g)A_t$$ \n",
    "and\n",
    "$$ K_{t+1} = (1- \\delta) K_t + I_t \\label{eq:K accumulation}$$\n",
    "\n",
    "where $\\delta$ is the depreciation rate."
   ]
  },
  {
   "cell_type": "markdown",
   "metadata": {},
   "source": [
    "This is a closed economy, and therefore output is equal to investment plus consumption (we abstract from the government spending to simplify our analysis):\n",
    "\n",
    "$$ Y_t = C_t + I_t$$\n",
    "\n",
    "We assume that consumers save a fraction $s$ of their income, and since aggregate savings are equal to investment, we have \n",
    "\n",
    "$$ I_t = sY_t, \\quad C_t = (1-s)Y_t $$\n",
    "\n",
    "Notice that this implies, from the capital accumulation equation, that\n",
    "\n",
    "$$ K_{t+1} - K_t =  sY_t -\\delta K_t $$\n",
    "\n",
    "Rewrite all aggregate variables in per efficiency-work units, i.e.\n",
    "\n",
    "$$y_t = \\frac{Y_t}{A_t L_t}, \\quad k_t = \\frac{K_t}{A_t L_t} $$\n",
    "\n",
    "Define $ f(k_t) \\equiv  \\frac{F(K_t, A_t  L_t)}{A_t L_t} = F(\\frac{K_t}{A_t L_t},1) $. We can then derive the law of motion of capital in efficiency units as\n",
    "\n",
    "$$ k_{t+1}(1+g)(1+n) = sf(k_t) + [ - g - n - \\delta  - gn + 1 + g + n + gn ] k_t $$\n",
    "\n",
    "or $$ k_{t+1} = \\frac{sf(k_t) + ( 1 - \\delta    ) k_t}{(1+g)(1+n)} $$\n",
    "\n",
    "which, under the assumption of Coob-Douglas production function becomes \n",
    "\n",
    "$$ k_{t+1} = \\frac{sk_t^{\\alpha} + ( 1 - \\delta    ) k_t}{(1+g)(1+n)} \\qquad (1)$$ \n"
   ]
  },
  {
   "cell_type": "markdown",
   "metadata": {},
   "source": [
    "We define a steady state as a situation for which $k_{t+1} = k_{t} = k^{*}$, i.e. capital in efficiency units is constant. We can easily calculate that, for a Cobb-Douglas in the form mentioned above, the steady state is\n",
    "\n",
    "$$ k^{*} = \\left( \\frac{s}{g + n + \\delta + gn} \\right)^{ \\frac{1}{1-\\alpha } } $$"
   ]
  },
  {
   "cell_type": "markdown",
   "metadata": {},
   "source": [
    "## Project\n",
    "\n",
    "We will create a class which can represent the Solow growth model and then use it for some experiments."
   ]
  },
  {
   "cell_type": "markdown",
   "metadata": {},
   "source": [
    "#### 1. Create a class called ```Solow``` with attributes being the parameters of the Solow growth model (n, s, $\\delta, \\, \\alpha$, g). \n"
   ]
  },
  {
   "cell_type": "markdown",
   "metadata": {},
   "source": [
    "#### 2. Add a method which calculates the RHS of the equation (1), given a value for $k_t$\n"
   ]
  },
  {
   "cell_type": "markdown",
   "metadata": {},
   "source": [
    "#### 3. Add a method that updates the current value of $k_t$"
   ]
  },
  {
   "cell_type": "markdown",
   "metadata": {},
   "source": [
    "#### 4. Add a method that generates a sequence of values for $k_t$, for $t$ periods. "
   ]
  },
  {
   "cell_type": "markdown",
   "metadata": {},
   "source": [
    "#### 5. Add a method that calculates the steady state"
   ]
  },
  {
   "cell_type": "markdown",
   "metadata": {},
   "source": [
    "#### 6. Add a method that computes the value of the aggregate variables from a value of $k$, $A,$ and $L$"
   ]
  },
  {
   "cell_type": "markdown",
   "metadata": {},
   "source": [
    "#### 7. Add a method that computes the per worker variables"
   ]
  },
  {
   "cell_type": "markdown",
   "metadata": {},
   "source": [
    "#### 8. Add a method that generates a series of per worker variables "
   ]
  },
  {
   "cell_type": "markdown",
   "metadata": {},
   "source": [
    "#### 9. We now want to use this class for scenario analysis. A scenario is a series of assumptions made on the parameters of the model. We will leave to you to decide which scenarios are interesting to present. \n",
    "\n",
    "Possible examples are: \n",
    "\n",
    "1. what will happen to GDP per capita to a country that has no productivity growth, versus a country in which productivity grows at 2% per year? \n",
    "\n",
    "2. Assume that two countries are exactly identical, but they differ in their initial capital endowment. How their economies will evolve overtime? \n",
    "\n",
    "Feel free to explore additional possible scenarios. Your task is to plot what happens to the variables in efficiency units, in per worker terms, and the aggregate variables. "
   ]
  },
  {
   "cell_type": "markdown",
   "metadata": {},
   "source": [
    "#### 10. (if you still have time) Growth Accounting\n",
    "\n",
    "Notice that we can rewrite the production function in the following way:\n",
    "\n",
    "$$ Y_t = K_t^{\\alpha} (A_t  L_t)^{1-\\alpha} = A_t^{1-\\alpha} K_t^{\\alpha}  L_t^{1-\\alpha}  $$\n",
    "\n",
    "and let's define $Z_t \\equiv A_t^{1-\\alpha}$. We can divide by the labour input, to get GDP per worker:\n",
    "\n",
    "$$ Y_t/L_t = Z_t \\left(K_t/L_t\\right)^{\\alpha} $$ \n",
    "\n",
    "or \n",
    "\n",
    "$$ \\tilde{y}_t = Z_t \\tilde{k}_t^{\\alpha} $$ \n",
    "\n",
    "\n",
    "From this equation, we can see that the growth of the GDP per worker can come from the growth of the TFP ($Z_t$) or the growth of capital per worker ($\\tilde{k}_t$), i.e. \n",
    "\n",
    "$$ g_{\\tilde{y}} = g_Z + \\alpha g_{\\tilde{k}} $$.\n",
    "\n",
    "We can therefore calculate the growth rate of the TFP by using the equation above. The parameter $\\alpha$ is equivalent to one minus the labour share (see [this](https://srabbani.com/cobb_douglas.pdf) for derivations). We will try to do an accounting exercise by using [Penn World Tables](https://www.rug.nl/ggdc/productivity/pwt/) data, and calculate the growth rate of the TFP in several countries over time. "
   ]
  },
  {
   "cell_type": "markdown",
   "metadata": {},
   "source": [
    "In your data folder, you have a file called ```pwt91excel.xlsx```. Use ```pandas``` to import it, and select the years 1960-2000, the countries  Australia,  Austria,  Belgium,  Germany,  France,  United Kingdom,  United States. Which variables you think should be used for this calculations? Can you create a table that accounts for the different sources of growth as in the equation above? \n",
    "\n",
    "What about other countries? Can you repeat the analysis using South Korea, Taiwan, Thailand, Singapore, China? What are the main differences?"
   ]
  },
  {
   "cell_type": "markdown",
   "metadata": {},
   "source": [
    "#### 11. (if you have even more time left...) Counterfactuals\n",
    "\n",
    "It would be interesting to understand what would have happend to a country had their technology been different, or their initial capital stock been different, etc. For example, what would be GDP per worker in China today, if it had the capital stock of the US back in 1960? Or what if China had the US TFP level in 1960? What about different growth rates for different growth mechanisms? These are called **counterfactuals** in macroeconomic analysis. \n",
    "\n",
    "Focus on 1-3 possible counterfactuals that sound interesting to you (maybe consult the teaching team!), and create a table showing what GDP per worker would be under the counterfactual scenario. Clearly state all the assumptions you needed to make to perform this calculation. "
   ]
  },
  {
   "cell_type": "code",
   "execution_count": null,
   "metadata": {},
   "outputs": [],
   "source": []
  }
 ],
 "metadata": {
  "kernelspec": {
   "display_name": "Python 3",
   "language": "python",
   "name": "python3"
  },
  "language_info": {
   "codemirror_mode": {
    "name": "ipython",
    "version": 3
   },
   "file_extension": ".py",
   "mimetype": "text/x-python",
   "name": "python",
   "nbconvert_exporter": "python",
   "pygments_lexer": "ipython3",
   "version": "3.7.5"
  }
 },
 "nbformat": 4,
 "nbformat_minor": 4
}
