{
 "cells": [
  {
   "cell_type": "markdown",
   "metadata": {},
   "source": [
    "# Inequality, premature mortality and Covid-19\n",
    "\n",
    "This is code for a python workshop with LSE undergraduate economics students to explore the relationship between inequality and premature morality. The projects can use replication data from existing work, or create their own project using the other datasets provided. \n",
    "\n",
    "The pandemic has exacerbated the inequalities that were already present in society, and brought to light many inequalities such as variation in digital connectivity and access to health care provision. \n",
    "\n",
    "__Topics covered using this data__ \n",
    "*\tIncome inequality and mortality \n",
    "*   Covid-19 and health outcomes\n",
    "\n",
    "------"
   ]
  },
  {
   "cell_type": "markdown",
   "metadata": {},
   "source": [
    "# Motivation \n",
    "\n",
    "OECD figures suggest that the UK has among the highest levels of income inequality in the European Union (as measured by the Gini coefficient), although income inequality is lower than in the United States. \n",
    "\n",
    "Data published by Eurostat, the statistical office of the European Union, gives a more positive picture, indicating income inequality in the UK is lower than in several other EU countries although it is slightly higher than the EU average.\n",
    "\n",
    "__The Deaton Review__\n",
    "\n",
    "In 2019 the Institute for Fiscal Studies with Professor Angus Deaton launched the Deaton Review. A 5-year review into examining income and wealth inequalities, but also differences in health outcomes, political power and economic opportunities in British society and across the world.\n",
    "\n",
    "You can read more here: https://www.ifs.org.uk/inequality/\n",
    "\n",
    "------ \n",
    "\n",
    "## Data sets \n",
    "*\tLondon borough profiles for premature mortality [Link](https://data.london.gov.uk/dataset/london-borough-profiles)\n",
    "*\tCross-country inequalities (replication data from Prof Eric Neumayer (LSE)) [Link](https://www.dropbox.com/s/cp1gc60xagx4uj5/Article%20for%20AJPH.xlsx?dl=0)\n",
    "*\tEngland and Wales, Index of multiple deprivation [Link](https://www.gov.uk/government/statistics/english-indices-of-deprivation-2019) plus shape files [Link](https://data-communities.opendata.arcgis.com/search?q=IMD&sort=-modified)\n",
    "*\tUK Covid-19 cases and deaths [Link](https://coronavirus.data.gov.uk/)\n",
    "\n",
    "## Reading list\n",
    "\n",
    "Atkinson, A. (2015) Inequality: what can be done? LSE International Inequalities Institute.\n",
    "\n",
    "Neumayer, E. (2016) Inequalities of Income and Inequalities of Longevity: A Cross-Country Study.\n",
    "\n",
    "Neumayer, E. (2017) Regional Inequalities in Premature Mortality in Great Britain.\n",
    "\n",
    "__Covid-19 impact__ \n",
    "Davenport, A. et al (2020) The geography of the COVID-19 crisis in England. \n",
    "\n",
    "Deaton, A. (2021) COVID-19 and global income inequality. \n",
    "\n",
    "Public Health England (2020) Disparities in the risk and outcomes of COVID-19.\n",
    "\n",
    "ONS (2020) Updating ethnic contrasts in deaths involving the coronavirus (COVID-19), England and Wales: deaths occurring 2 March to 28 July 2020.\n",
    "\n"
   ]
  },
  {
   "cell_type": "markdown",
   "metadata": {},
   "source": [
    "# Example 1: Premature morality in London\n",
    "\n",
    "------\n",
    "This dataset can be used as a stepping stone in understanding the demographic inequality in London. By creating a simple choropleth map, you can begin to make the case for further investigation into poor health outcomes during the pandemic. \n",
    "\n",
    "Can use data from a tutorial which can be found <a href=\"https://towardsdatascience.com/lets-make-a-map-using-geopandas-pandas-and-matplotlib-to-make-a-chloropleth-map-dddc31c1983d\">here</a>\n",
    "\n",
    "Note: there is a mistake in the author's final result as he uses the wrong 'column', and therefore doesn't actually show mortality. \n",
    "\n",
    "\n",
    "# Import packages \n",
    "\n",
    "You will need to import: \n",
    "* pandas\n",
    "* numpy\n",
    "* matplotlib in addition to a new package: \n",
    "* geopandas. \n",
    "* statsmodels\n",
    "\n",
    "We are using geopandas to create the choropleth maps. To carry out any econometric analysis, the recommended package is statsmodels. (You'll want to use this when using the replication data, or for your covid-19 analysis on inequality and mortality). \n",
    "\n",
    "__A word of caution when using geopandas__\n",
    "\n",
    "You need to make sure you carefully follow the installation documentation. \n",
    "You can read it <a href=\"https://geopandas.readthedocs.io/en/latest/install.html\">here</a>  \n",
    "\n",
    "When using conda, make sure you use this new environment 'geo_env' so that you don't have any conflicts when using geopandas. "
   ]
  },
  {
   "cell_type": "markdown",
   "metadata": {},
   "source": [
    "# Import the data \n",
    "\n",
    "Data here varies for multiple years. last updated 2 months ago (from site)\n",
    "You can download the data yourself <a href=\"https://data.london.gov.uk/dataset/london-borough-profiles\">here</a>  \n"
   ]
  },
  {
   "cell_type": "markdown",
   "metadata": {},
   "source": [
    "# Inspect the data \n",
    "\n",
    "This is a good opportunity to udnerstand how to inspect and clean data. In your final projects, you should include the techniques used to clean the data and identify any data wrangling you had to do. Try to answer answer the following questions: \n",
    "\n",
    "* How many observations are in the data. \n",
    "* What are the various columns - list them\n",
    "* How many missing observations? \n",
    "* How many unique boroughs? \n",
    "* Rename the columns of interest to simplier names (hint: df.rename(index=str, columns={'Area name':'borough',....})"
   ]
  },
  {
   "cell_type": "markdown",
   "metadata": {},
   "source": [
    "# Import the shape file\n",
    "\n",
    "You can download the shapefiles here: https://data.london.gov.uk/dataset/statistical-gis-boundary-files-london\n",
    "\n",
    "Select the option 'statistical-gis-boundaries-london.zip  (27.34 MB)'\n",
    "Make sure to move it to the same directory as all your other files and this notebook for ease of use. when saving you need to make sure you have the .shx AND .shp files stored together! "
   ]
  },
  {
   "cell_type": "markdown",
   "metadata": {},
   "source": [
    "# Cleaning the dataframes"
   ]
  },
  {
   "cell_type": "markdown",
   "metadata": {},
   "source": [
    "# Creating the map\n",
    "\n",
    "Colours of the map codes: https://matplotlib.org/tutorials/colors/colormaps.html\n",
    "\n",
    "Here you just want to select mortality and map it. "
   ]
  },
  {
   "cell_type": "markdown",
   "metadata": {},
   "source": [
    "# Example 2: Inequality of longevity and income in the UK\n",
    "\n",
    "This dataset was used to examined the effects of market income inequality (income inequality\n",
    "before taxes and transfers) and income redistribution via taxes and transfers on inequality in longevity.\n",
    "\n",
    "The corresponding paper can be found here: https://ajph.aphapublications.org/doi/pdf/10.2105/AJPH.2015.302849\n",
    "\n",
    "\n",
    "__Motivation__\n",
    "Public policies affect not only health and mortality at the individual level, but also the inequality of longevity-inequality in the number of years lived. \n",
    "\n",
    "For example, higher tobacco and alcohol taxes reduce consumption, as do nonfiscal regulatory measures such as restrictions on smoking in closed spaces. This reduces avoidable mortality from lung cancer and liver cirrhosis. More directly, governments implement health and safety regulations, influence total health spending and its allocation, and regulate the coverage of health insurance across individuals. All factors that reduce premature deaths also reduce longevity inequality.\n"
   ]
  },
  {
   "cell_type": "markdown",
   "metadata": {},
   "source": [
    "# Import the data \n",
    "\n",
    "(Note: You have already imported all the relevant datasets, so you won't need to do that again)\n",
    "\n",
    "We can begin simply by importing the data. \n",
    "\n",
    "The data can be downloaded from here: https://www.dropbox.com/s/cp1gc60xagx4uj5/Article%20for%20AJPH.xlsx?dl=0"
   ]
  },
  {
   "cell_type": "markdown",
   "metadata": {},
   "source": [
    "# Inspect the data \n",
    "\n",
    "As before, generate some summary stats to describe the data that you have. This should also help you to understand what the dataset is and how you can use it. \n",
    "\n",
    "Consider finding the following: \n",
    "* Number of countries. And the names of these countries\n",
    "* Years the data runs from and to \n",
    "* Null observations \n",
    "* Most unequal country (High Gini coefficient)\n",
    "* Most equal country (Low Gini coeffcient) \n",
    "* The total columns and what they describe \n",
    "\n",
    "\n",
    "The next step would be to test for a few relationships, this could be by creating some scatter plots first or by running a regression. "
   ]
  },
  {
   "cell_type": "markdown",
   "metadata": {},
   "source": [
    "# Covid-19 inequality and health outcomes\n",
    "The above datasets give an insight into where how and how income inequality and poor health outcomes are prevalent. Using the coranavirus data on hospital admissions or deaths, students can begin to analyse these relationship of deprivation and poverty. \n",
    "\n",
    "The Index of Multiple Deprivation could be a useful dataset to begin assessing these relationships. (Link is provided above.) The Annual Survey of Hours and Earnings data from the ONS might be another source of data to capture income data at an local authority level. Available [here](https://www.ons.gov.uk/employmentandlabourmarket/peopleinwork/earningsandworkinghours/datasets/placeofresidencebylocalauthorityashetable8)"
   ]
  }
 ],
 "metadata": {
  "kernelspec": {
   "display_name": "Python 3",
   "language": "python",
   "name": "python3"
  },
  "language_info": {
   "codemirror_mode": {
    "name": "ipython",
    "version": 3
   },
   "file_extension": ".py",
   "mimetype": "text/x-python",
   "name": "python",
   "nbconvert_exporter": "python",
   "pygments_lexer": "ipython3",
   "version": "3.7.3"
  }
 },
 "nbformat": 4,
 "nbformat_minor": 4
}
