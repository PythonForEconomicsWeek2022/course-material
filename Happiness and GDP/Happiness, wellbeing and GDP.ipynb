{
 "cells": [
  {
   "attachments": {},
   "cell_type": "markdown",
   "metadata": {},
   "source": [
    "# Happiness, wellbeing and GDP\n",
    "\n",
    "––––––\n",
    "\n",
    "This is for a python workshop with economics students to explore the relationship of happiness and income to countries and individuals. The project can look at whether the current debate about considering the a broader measure of economic wellbeing is useful for policy making. \n",
    "\n",
    "\n",
    "__Topics covered__ \n",
    "*\tIncome and life satisfaction\n",
    "*\tCoronavirus and economic wellbeing"
   ]
  },
  {
   "attachments": {},
   "cell_type": "markdown",
   "metadata": {},
   "source": [
    "# Motivation \n",
    "\n",
    "In 2019 the New Zealand government published their new 'Wellbeing Budget. This was an attempt to include a broad set of indicators such as mental health, child poverty and domestic violence to have a forward looking approach to the environment, the strength of communities and the performance of the economy. Read the full article [here.](https://theconversation.com/new-zealands-well-being-budget-how-it-hopes-to-improve-peoples-lives-118052)\n",
    "\n",
    "<img src=\"NZ budget.png\" alt=\"NZ budget.png\" width=\"400\"/>\n",
    "\n",
    "\n",
    "#### The Stiglitz Commission \n",
    "The 2009 Stiglitz Commission stated that “Research has shown that it is possible to collect meaningful and reliable data on subjective as well as objective well-being. Subjective well-being encompasses different aspects (cognitive evaluations of one’s life, happiness, satisfaction, positive emotions such as joy and pride, and negative emotions such as pain and worry): each of them should be measured separately to derive a more comprehensive appreciation of people’s lives... [SWB] should be included in larger-scale surveys undertaken by official statistical offices”.\n",
    "\n",
    "#### Subjective Wellbeing \n",
    "Subjective Wellbeing is measured by simply asking people about their happiness. SWB is beginning to be used to monitor progress and to inform policy in terms of depression rates and in the provision of cognitive behavioural therapy. Policy appraisal using SWB has interested academics for decades and is increasinly concerning policymakers.\n",
    "\n"
   ]
  },
  {
   "attachments": {},
   "cell_type": "markdown",
   "metadata": {},
   "source": [
    "# Data sources \n",
    "* Happiness report data for 2008 - 2019 and can be downloaded [here:]( https://www.dropbox.com/s/cwe1g35er387955/happiness_with_continent%282019%29.csv?dl=0)\n",
    "* Happiness report data for 2020, available [here](https://www.dropbox.com/s/4s5kg4qse26y8s8/2020.csv?dl=0)\n",
    "* ONS, Total population estimates on personal and economic well-being across time [Link](https://www.ons.gov.uk/peoplepopulationandcommunity/wellbeing/datasets/totalpopulationestimatesonpersonalandeconomicwellbeingacrosstime)\n",
    "\n",
    "\n",
    "To understand the data, you need to read the world happiness report section on data constrution and statistics. \n",
    "This will help you to understand how the variables were measured and constructed. "
   ]
  },
  {
   "cell_type": "markdown",
   "metadata": {},
   "source": [
    "## Related Literature \n",
    "\n",
    "Bellet, c. et al (2019) Does Employee Happiness Have an Impact on Productivity? Available [here.]('http://cep.lse.ac.uk/pubs/download/dp1655.pdf')\n",
    "\n",
    "Frijters, P and Layard, R (2018) Direct wellbeing measurement and policy appraisal: a discussion paper [here.]('http://cep.lse.ac.uk/textonly/_new/staff/layard/pdf/0461_DirectWellbeingMeasurement.pdf') \n",
    "\n",
    "Gallup (2019) World Happiness Report 2019). Available [here.]('https://worldhappiness.report/')\n",
    "\n",
    "Layard, R (2016) Wellbeing measurement and cost-effectiveness analysis. Available [here.]('http://cep.lse.ac.uk/textonly/_new/staff/layard/pdf/0381-06-07-16.pdf')\n",
    "\n",
    "__Covid-19 impact__\n",
    "\n",
    "Brodeur, A. et al. (2020) Covid-19, lockdowns and well-being: evidence from Google trends. \n",
    "\n",
    "Clark et al. (2020) When to release the lockdown: A wellbeing framework for analysing costs and benefits. "
   ]
  },
  {
   "cell_type": "markdown",
   "metadata": {},
   "source": [
    "# 1. Import packages \n",
    "You need to import the following packages: \n",
    "* pandas\n",
    "* numpy\n",
    "* matplotlib \n",
    "* seaborn (for nicer charts) \n",
    "* statsmodels (for regression analysis) "
   ]
  },
  {
   "cell_type": "code",
   "execution_count": 6,
   "metadata": {},
   "outputs": [],
   "source": [
    "import pandas as pd\n",
    "import numpy as np\n",
    "import matplotlib.pyplot as plt\n",
    "import seaborn as sns\n",
    "import statsmodels.api as sm\n",
    "import statsmodels.formula.api as smf"
   ]
  },
  {
   "cell_type": "code",
   "execution_count": 7,
   "metadata": {
    "scrolled": true
   },
   "outputs": [
    {
     "data": {
      "text/html": [
       "<div>\n",
       "<style scoped>\n",
       "    .dataframe tbody tr th:only-of-type {\n",
       "        vertical-align: middle;\n",
       "    }\n",
       "\n",
       "    .dataframe tbody tr th {\n",
       "        vertical-align: top;\n",
       "    }\n",
       "\n",
       "    .dataframe thead th {\n",
       "        text-align: right;\n",
       "    }\n",
       "</style>\n",
       "<table border=\"1\" class=\"dataframe\">\n",
       "  <thead>\n",
       "    <tr style=\"text-align: right;\">\n",
       "      <th></th>\n",
       "      <th>Country name</th>\n",
       "      <th>Year</th>\n",
       "      <th>Life Ladder</th>\n",
       "      <th>Log GDP per capita</th>\n",
       "      <th>Social support</th>\n",
       "      <th>Healthy life expectancy at birth</th>\n",
       "      <th>Freedom to make life choices</th>\n",
       "      <th>Generosity</th>\n",
       "      <th>Perceptions of corruption</th>\n",
       "      <th>Positive affect</th>\n",
       "      <th>...</th>\n",
       "      <th>GINI index (World Bank estimate), average 2000-16</th>\n",
       "      <th>gini of household income reported in Gallup, by wp5-year</th>\n",
       "      <th>Most people can be trusted, Gallup</th>\n",
       "      <th>Most people can be trusted, WVS round 1981-1984</th>\n",
       "      <th>Most people can be trusted, WVS round 1989-1993</th>\n",
       "      <th>Most people can be trusted, WVS round 1994-1998</th>\n",
       "      <th>Most people can be trusted, WVS round 1999-2004</th>\n",
       "      <th>Most people can be trusted, WVS round 2005-2009</th>\n",
       "      <th>Most people can be trusted, WVS round 2010-2014</th>\n",
       "      <th>Continent</th>\n",
       "    </tr>\n",
       "  </thead>\n",
       "  <tbody>\n",
       "    <tr>\n",
       "      <th>0</th>\n",
       "      <td>Afghanistan</td>\n",
       "      <td>2008</td>\n",
       "      <td>3.723590</td>\n",
       "      <td>7.16869</td>\n",
       "      <td>0.450662</td>\n",
       "      <td>50.799999</td>\n",
       "      <td>0.718114</td>\n",
       "      <td>0.177889</td>\n",
       "      <td>0.881686</td>\n",
       "      <td>0.517637</td>\n",
       "      <td>...</td>\n",
       "      <td>NaN</td>\n",
       "      <td>NaN</td>\n",
       "      <td>NaN</td>\n",
       "      <td>NaN</td>\n",
       "      <td>NaN</td>\n",
       "      <td>NaN</td>\n",
       "      <td>NaN</td>\n",
       "      <td>NaN</td>\n",
       "      <td>NaN</td>\n",
       "      <td>Asia</td>\n",
       "    </tr>\n",
       "    <tr>\n",
       "      <th>1</th>\n",
       "      <td>Afghanistan</td>\n",
       "      <td>2009</td>\n",
       "      <td>4.401778</td>\n",
       "      <td>7.33379</td>\n",
       "      <td>0.552308</td>\n",
       "      <td>51.200001</td>\n",
       "      <td>0.678896</td>\n",
       "      <td>0.200178</td>\n",
       "      <td>0.850035</td>\n",
       "      <td>0.583926</td>\n",
       "      <td>...</td>\n",
       "      <td>NaN</td>\n",
       "      <td>0.441906</td>\n",
       "      <td>0.286315</td>\n",
       "      <td>NaN</td>\n",
       "      <td>NaN</td>\n",
       "      <td>NaN</td>\n",
       "      <td>NaN</td>\n",
       "      <td>NaN</td>\n",
       "      <td>NaN</td>\n",
       "      <td>Asia</td>\n",
       "    </tr>\n",
       "  </tbody>\n",
       "</table>\n",
       "<p>2 rows × 27 columns</p>\n",
       "</div>"
      ],
      "text/plain": [
       "  Country name  Year  Life Ladder  Log GDP per capita  Social support  \\\n",
       "0  Afghanistan  2008     3.723590             7.16869        0.450662   \n",
       "1  Afghanistan  2009     4.401778             7.33379        0.552308   \n",
       "\n",
       "   Healthy life expectancy at birth  Freedom to make life choices  Generosity  \\\n",
       "0                         50.799999                      0.718114    0.177889   \n",
       "1                         51.200001                      0.678896    0.200178   \n",
       "\n",
       "   Perceptions of corruption  Positive affect  ...  \\\n",
       "0                   0.881686         0.517637  ...   \n",
       "1                   0.850035         0.583926  ...   \n",
       "\n",
       "   GINI index (World Bank estimate), average 2000-16  \\\n",
       "0                                                NaN   \n",
       "1                                                NaN   \n",
       "\n",
       "   gini of household income reported in Gallup, by wp5-year  \\\n",
       "0                                                NaN          \n",
       "1                                           0.441906          \n",
       "\n",
       "   Most people can be trusted, Gallup  \\\n",
       "0                                 NaN   \n",
       "1                            0.286315   \n",
       "\n",
       "   Most people can be trusted, WVS round 1981-1984  \\\n",
       "0                                              NaN   \n",
       "1                                              NaN   \n",
       "\n",
       "   Most people can be trusted, WVS round 1989-1993  \\\n",
       "0                                              NaN   \n",
       "1                                              NaN   \n",
       "\n",
       "   Most people can be trusted, WVS round 1994-1998  \\\n",
       "0                                              NaN   \n",
       "1                                              NaN   \n",
       "\n",
       "   Most people can be trusted, WVS round 1999-2004  \\\n",
       "0                                              NaN   \n",
       "1                                              NaN   \n",
       "\n",
       "   Most people can be trusted, WVS round 2005-2009  \\\n",
       "0                                              NaN   \n",
       "1                                              NaN   \n",
       "\n",
       "   Most people can be trusted, WVS round 2010-2014  Continent  \n",
       "0                                              NaN       Asia  \n",
       "1                                              NaN       Asia  \n",
       "\n",
       "[2 rows x 27 columns]"
      ]
     },
     "execution_count": 7,
     "metadata": {},
     "output_type": "execute_result"
    }
   ],
   "source": [
    "df1 = pd.read_csv(\"happiness_with_continent(2019).csv\")\n",
    "\n",
    "df1.head(n=2) #check what the data looks like"
   ]
  },
  {
   "cell_type": "markdown",
   "metadata": {},
   "source": [
    "Students will also need to import another file with the 2020 data, and then merge it together. "
   ]
  },
  {
   "cell_type": "code",
   "execution_count": 8,
   "metadata": {},
   "outputs": [
    {
     "data": {
      "text/html": [
       "<div>\n",
       "<style scoped>\n",
       "    .dataframe tbody tr th:only-of-type {\n",
       "        vertical-align: middle;\n",
       "    }\n",
       "\n",
       "    .dataframe tbody tr th {\n",
       "        vertical-align: top;\n",
       "    }\n",
       "\n",
       "    .dataframe thead th {\n",
       "        text-align: right;\n",
       "    }\n",
       "</style>\n",
       "<table border=\"1\" class=\"dataframe\">\n",
       "  <thead>\n",
       "    <tr style=\"text-align: right;\">\n",
       "      <th></th>\n",
       "      <th>Country name</th>\n",
       "      <th>Regional indicator</th>\n",
       "      <th>Ladder score</th>\n",
       "      <th>Standard error of ladder score</th>\n",
       "      <th>upperwhisker</th>\n",
       "      <th>lowerwhisker</th>\n",
       "      <th>Logged GDP per capita</th>\n",
       "      <th>Social support</th>\n",
       "      <th>Healthy life expectancy</th>\n",
       "      <th>Freedom to make life choices</th>\n",
       "      <th>Generosity</th>\n",
       "      <th>Perceptions of corruption</th>\n",
       "      <th>Ladder score in Dystopia</th>\n",
       "      <th>Explained by: Log GDP per capita</th>\n",
       "      <th>Explained by: Social support</th>\n",
       "      <th>Explained by: Healthy life expectancy</th>\n",
       "      <th>Explained by: Freedom to make life choices</th>\n",
       "      <th>Explained by: Generosity</th>\n",
       "      <th>Explained by: Perceptions of corruption</th>\n",
       "      <th>Dystopia + residual</th>\n",
       "    </tr>\n",
       "  </thead>\n",
       "  <tbody>\n",
       "    <tr>\n",
       "      <th>0</th>\n",
       "      <td>Finland</td>\n",
       "      <td>Western Europe</td>\n",
       "      <td>7.8087</td>\n",
       "      <td>0.031156</td>\n",
       "      <td>7.869766</td>\n",
       "      <td>7.747634</td>\n",
       "      <td>10.639267</td>\n",
       "      <td>0.954330</td>\n",
       "      <td>71.900825</td>\n",
       "      <td>0.949172</td>\n",
       "      <td>-0.059482</td>\n",
       "      <td>0.195445</td>\n",
       "      <td>1.972317</td>\n",
       "      <td>1.285190</td>\n",
       "      <td>1.499526</td>\n",
       "      <td>0.961271</td>\n",
       "      <td>0.662317</td>\n",
       "      <td>0.159670</td>\n",
       "      <td>0.477857</td>\n",
       "      <td>2.762835</td>\n",
       "    </tr>\n",
       "    <tr>\n",
       "      <th>1</th>\n",
       "      <td>Denmark</td>\n",
       "      <td>Western Europe</td>\n",
       "      <td>7.6456</td>\n",
       "      <td>0.033492</td>\n",
       "      <td>7.711245</td>\n",
       "      <td>7.579955</td>\n",
       "      <td>10.774001</td>\n",
       "      <td>0.955991</td>\n",
       "      <td>72.402504</td>\n",
       "      <td>0.951444</td>\n",
       "      <td>0.066202</td>\n",
       "      <td>0.168489</td>\n",
       "      <td>1.972317</td>\n",
       "      <td>1.326949</td>\n",
       "      <td>1.503449</td>\n",
       "      <td>0.979333</td>\n",
       "      <td>0.665040</td>\n",
       "      <td>0.242793</td>\n",
       "      <td>0.495260</td>\n",
       "      <td>2.432741</td>\n",
       "    </tr>\n",
       "  </tbody>\n",
       "</table>\n",
       "</div>"
      ],
      "text/plain": [
       "  Country name Regional indicator  Ladder score  \\\n",
       "0      Finland     Western Europe        7.8087   \n",
       "1      Denmark     Western Europe        7.6456   \n",
       "\n",
       "   Standard error of ladder score  upperwhisker  lowerwhisker  \\\n",
       "0                        0.031156      7.869766      7.747634   \n",
       "1                        0.033492      7.711245      7.579955   \n",
       "\n",
       "   Logged GDP per capita  Social support  Healthy life expectancy  \\\n",
       "0              10.639267        0.954330                71.900825   \n",
       "1              10.774001        0.955991                72.402504   \n",
       "\n",
       "   Freedom to make life choices  Generosity  Perceptions of corruption  \\\n",
       "0                      0.949172   -0.059482                   0.195445   \n",
       "1                      0.951444    0.066202                   0.168489   \n",
       "\n",
       "   Ladder score in Dystopia  Explained by: Log GDP per capita  \\\n",
       "0                  1.972317                          1.285190   \n",
       "1                  1.972317                          1.326949   \n",
       "\n",
       "   Explained by: Social support  Explained by: Healthy life expectancy  \\\n",
       "0                      1.499526                               0.961271   \n",
       "1                      1.503449                               0.979333   \n",
       "\n",
       "   Explained by: Freedom to make life choices  Explained by: Generosity  \\\n",
       "0                                    0.662317                  0.159670   \n",
       "1                                    0.665040                  0.242793   \n",
       "\n",
       "   Explained by: Perceptions of corruption  Dystopia + residual  \n",
       "0                                 0.477857             2.762835  \n",
       "1                                 0.495260             2.432741  "
      ]
     },
     "execution_count": 8,
     "metadata": {},
     "output_type": "execute_result"
    }
   ],
   "source": [
    "df2 = pd.read_csv(\"https://www.dropbox.com/s/4s5kg4qse26y8s8/2020.csv?dl=1\")\n",
    "\n",
    "df2.head(n=2)"
   ]
  },
  {
   "cell_type": "markdown",
   "metadata": {},
   "source": [
    "# 2. Inspect the data \n",
    "In order to do your analysis you need to get to know the data you're using before doing any analysis. Can you find some interesting stats from here to feedback during their presentations?\n",
    "\n",
    "* Count the number of unique countries \n",
    "* How many years the dataset includes \n",
    "* Check for null values\n",
    "* Happinest country, in the most recent year \n",
    "* Unhappiest country, in the most recent year  \n",
    "* More unequal country \n",
    "* Most unequal country \n",
    "* Average life ladder score, globally \n",
    "* Average life ladder country, by continent \n"
   ]
  },
  {
   "cell_type": "code",
   "execution_count": 10,
   "metadata": {},
   "outputs": [
    {
     "data": {
      "text/plain": [
       "(1704, 27)"
      ]
     },
     "execution_count": 10,
     "metadata": {},
     "output_type": "execute_result"
    }
   ],
   "source": [
    "df1.shape"
   ]
  },
  {
   "cell_type": "code",
   "execution_count": 11,
   "metadata": {},
   "outputs": [
    {
     "data": {
      "text/plain": [
       "(153, 20)"
      ]
     },
     "execution_count": 11,
     "metadata": {},
     "output_type": "execute_result"
    }
   ],
   "source": [
    "df2.shape"
   ]
  },
  {
   "cell_type": "markdown",
   "metadata": {},
   "source": [
    "Clearly the two datasets don't have the same dimensions, so students may have trouble here. Likewise the 'continent' definitions are different, so how would the students overcome this? They should be able to create a "
   ]
  },
  {
   "cell_type": "code",
   "execution_count": 9,
   "metadata": {
    "scrolled": false
   },
   "outputs": [
    {
     "data": {
      "text/plain": [
       "Country name                                                 165\n",
       "Year                                                          14\n",
       "Life Ladder                                                 1704\n",
       "Log GDP per capita                                          1676\n",
       "Social support                                              1691\n",
       "Healthy life expectancy at birth                             825\n",
       "Freedom to make life choices                                1674\n",
       "Generosity                                                  1622\n",
       "Perceptions of corruption                                   1608\n",
       "Positive affect                                             1685\n",
       "Negative affect                                             1691\n",
       "Confidence in national government                           1530\n",
       "Democratic Quality                                          1558\n",
       "Delivery Quality                                            1559\n",
       "Standard deviation of ladder by country-year                1704\n",
       "Standard deviation/Mean of ladder by country-year           1703\n",
       "GINI index (World Bank estimate)                             268\n",
       "GINI index (World Bank estimate), average 2000-16            135\n",
       "gini of household income reported in Gallup, by wp5-year    1335\n",
       "Most people can be trusted, Gallup                           180\n",
       "Most people can be trusted, WVS round 1981-1984               10\n",
       "Most people can be trusted, WVS round 1989-1993               18\n",
       "Most people can be trusted, WVS round 1994-1998               51\n",
       "Most people can be trusted, WVS round 1999-2004               40\n",
       "Most people can be trusted, WVS round 2005-2009               53\n",
       "Most people can be trusted, WVS round 2010-2014               57\n",
       "Continent                                                      6\n",
       "dtype: int64"
      ]
     },
     "execution_count": 9,
     "metadata": {},
     "output_type": "execute_result"
    }
   ],
   "source": [
    "df1.nunique()"
   ]
  },
  {
   "cell_type": "code",
   "execution_count": 13,
   "metadata": {},
   "outputs": [
    {
     "data": {
      "text/plain": [
       "Country name                                  153\n",
       "Regional indicator                             10\n",
       "Ladder score                                  153\n",
       "Standard error of ladder score                153\n",
       "upperwhisker                                  153\n",
       "lowerwhisker                                  153\n",
       "Logged GDP per capita                         152\n",
       "Social support                                153\n",
       "Healthy life expectancy                       152\n",
       "Freedom to make life choices                  153\n",
       "Generosity                                    153\n",
       "Perceptions of corruption                     153\n",
       "Ladder score in Dystopia                        1\n",
       "Explained by: Log GDP per capita              152\n",
       "Explained by: Social support                  153\n",
       "Explained by: Healthy life expectancy         152\n",
       "Explained by: Freedom to make life choices    153\n",
       "Explained by: Generosity                      153\n",
       "Explained by: Perceptions of corruption       153\n",
       "Dystopia + residual                           153\n",
       "dtype: int64"
      ]
     },
     "execution_count": 13,
     "metadata": {},
     "output_type": "execute_result"
    }
   ],
   "source": [
    "df2.nunique()"
   ]
  },
  {
   "cell_type": "markdown",
   "metadata": {},
   "source": [
    "# 3. Merge the datasets \n",
    "You need to merge the 2008-2019 dataframe with the new 2020 dataframe. You now have the information of the dimensions and the names of all the columns (variables). So make sure that for the variables you'd like to concatonate, that the names are the same. \n",
    "\n",
    "To concotante dataframes we use: pd.concat()"
   ]
  },
  {
   "cell_type": "markdown",
   "metadata": {},
   "source": [
    "# 4. Data visualisation\n",
    "\n",
    "Consider creating the following charts: \n",
    "* Bar chart of 5 countries by life ladder (highest, lowest and 3 interesting)\n",
    "* Line chart for UK and NZ life ladder over time \n",
    "* scatter plot for all countries life ladder and GDP per capita. Can you change the colour for continent? \n",
    "* Scatter plot for Europe, economic freedom and life ladder \n",
    "* Scatter plot with a line of best fit.\n",
    "\n",
    "Line of best fit: y=mx+b \n",
    "\n",
    "This tutorial might be helpful: https://pythonprogramming.net/how-to-program-best-fit-line-machine-learning-tutorial/\n",
    "\n"
   ]
  },
  {
   "cell_type": "markdown",
   "metadata": {},
   "source": [
    "# 5. Estimating the impact of happiness \n",
    "You could also consider running a regression to estimate the the impact of GDP on happiness. \n",
    "\n",
    "In order to this you will need to use the package statsmodels \n",
    "\n",
    "Now that you have run this simple regression, there may be other variables that might influence happiness that you may want to control for such as economic freedom."
   ]
  }
 ],
 "metadata": {
  "kernelspec": {
   "display_name": "Python 3",
   "language": "python",
   "name": "python3"
  },
  "language_info": {
   "codemirror_mode": {
    "name": "ipython",
    "version": 3
   },
   "file_extension": ".py",
   "mimetype": "text/x-python",
   "name": "python",
   "nbconvert_exporter": "python",
   "pygments_lexer": "ipython3",
   "version": "3.7.3"
  }
 },
 "nbformat": 4,
 "nbformat_minor": 4
}
